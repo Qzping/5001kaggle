{
 "cells": [
  {
   "cell_type": "code",
   "execution_count": 1,
   "metadata": {
    "collapsed": true
   },
   "outputs": [],
   "source": [
    "import pandas as pd\n",
    "train = pd.read_csv('data/train.csv')\n",
    "test = pd.read_csv('data/test.csv')"
   ]
  },
  {
   "cell_type": "code",
   "execution_count": 2,
   "outputs": [
    {
     "name": "stdout",
     "output_type": "stream",
     "text": [
      "id                          0\n",
      "MO HLADR+ MFI (cells/ul)    0\n",
      "Neu CD64+MFI (cells/ul)     0\n",
      "CD3+T (cells/ul)            0\n",
      "CD8+T (cells/ul)            0\n",
      "CD4+T (cells/ul)            0\n",
      "NK (cells/ul)               0\n",
      "CD19+ (cells/ul)            0\n",
      "CD45+ (cells/ul)            0\n",
      "Age                         0\n",
      "Sex 0M1F                    0\n",
      "Mono CD64+MFI (cells/ul)    0\n",
      "label                       0\n",
      "dtype: int64\n"
     ]
    }
   ],
   "source": [
    "# print(train.isnull().sum())\n",
    "train.dropna(axis=0, how='any', inplace=True)\n",
    "print(train.isnull().sum())"
   ],
   "metadata": {
    "collapsed": false,
    "pycharm": {
     "name": "#%%\n"
    }
   }
  },
  {
   "cell_type": "code",
   "execution_count": 3,
   "outputs": [],
   "source": [
    "features = train[train.columns.drop(['id', 'label'])]\n",
    "label = train['label']"
   ],
   "metadata": {
    "collapsed": false,
    "pycharm": {
     "name": "#%%\n"
    }
   }
  },
  {
   "cell_type": "code",
   "execution_count": 4,
   "outputs": [],
   "source": [
    "# Detect the Outliers\n",
    "from sklearn.ensemble import IsolationForest\n",
    "\n",
    "isf = IsolationForest(n_jobs=-1, random_state=1)\n",
    "isf.fit(features, label)\n",
    "\n",
    "predict_result = isf.predict(features)\n",
    "for i in range(len(predict_result)):\n",
    "    if predict_result[i] == -1:\n",
    "        features = features.drop(index=i, axis=0)\n",
    "        label = label.drop(index=i)"
   ],
   "metadata": {
    "collapsed": false,
    "pycharm": {
     "name": "#%%\n"
    }
   }
  },
  {
   "cell_type": "code",
   "execution_count": 5,
   "outputs": [
    {
     "data": {
      "text/plain": "<Figure size 432x288 with 1 Axes>",
      "image/png": "[encoded data removed]"
     },
     "metadata": {
      "needs_background": "light"
     },
     "output_type": "display_data"
    }
   ],
   "source": [
    "# Deal with Unbalanced Label\n",
    "label.value_counts().plot(kind='bar', title='label')\n",
    "\n",
    "# Use SMOTE to synthesize examples for minority class\n",
    "from imblearn.over_sampling import SMOTE\n",
    "\n",
    "smote = SMOTE(sampling_strategy='minority', n_jobs=-1)\n",
    "X_sm, y_sm = smote.fit_resample(features, label)"
   ],
   "metadata": {
    "collapsed": false,
    "pycharm": {
     "name": "#%%\n"
    }
   }
  },
  {
   "cell_type": "code",
   "execution_count": 6,
   "outputs": [
    {
     "data": {
      "text/plain": "<AxesSubplot:title={'center':'label after resampling'}>"
     },
     "execution_count": 6,
     "metadata": {},
     "output_type": "execute_result"
    },
    {
     "data": {
      "text/plain": "<Figure size 432x288 with 1 Axes>",
      "image/png": "[encoded data removed]"
     },
     "metadata": {
      "needs_background": "light"
     },
     "output_type": "display_data"
    }
   ],
   "source": [
    "y_sm.value_counts().plot(kind='bar', title='label after resampling')"
   ],
   "metadata": {
    "collapsed": false,
    "pycharm": {
     "name": "#%%\n"
    }
   }
  },
  {
   "cell_type": "code",
   "execution_count": 24,
   "outputs": [
    {
     "name": "stdout",
     "output_type": "stream",
     "text": [
      "Best parameters: {'max_depth': 3, 'n_estimators': 9}\n",
      "Accuracy: 0.91\n"
     ]
    }
   ],
   "source": [
    "import numpy as np\n",
    "from sklearn.tree import DecisionTreeClassifier\n",
    "from sklearn.ensemble import RandomForestClassifier\n",
    "from mlxtend.classifier import StackingClassifier\n",
    "from sklearn.linear_model import LogisticRegression\n",
    "from sklearn.neighbors import KNeighborsClassifier\n",
    "from sklearn.model_selection import GridSearchCV\n",
    "from xgboost import XGBClassifier\n",
    "\n",
    "model = StackingClassifier(\n",
    "    classifiers=[\n",
    "        # DecisionTreeClassifier(max_depth=3),\n",
    "        KNeighborsClassifier(n_neighbors=1),\n",
    "        RandomForestClassifier(random_state=1),\n",
    "        XGBClassifier(eval_metric=['logloss'], use_label_encoder=False),\n",
    "        # LogisticRegression(max_iter=10000)\n",
    "    ],\n",
    "    meta_classifier=LogisticRegression(),\n",
    ")\n",
    "\n",
    "# params = {\n",
    "#           'kneighborsclassifier__n_neighbors': range(1,6),\n",
    "#           'randomforestclassifier__n_estimators': range(1,5),\n",
    "#           'xgbclassifier__n_estimators': range(1,5),\n",
    "#           'meta_classifier__C': [0.1, 1, 10]}\n",
    "\n",
    "rfc = RandomForestClassifier(random_state=42)\n",
    "\n",
    "params = {\n",
    "    'n_estimators': range(1, 50, 2),\n",
    "    'max_depth': range(1, 50, 2),\n",
    "    # 'min_samples_split': range(2, 10, 2),\n",
    "    # 'max_features': range(1, 10, 2)\n",
    "}\n",
    "\n",
    "grid = GridSearchCV(estimator=rfc,\n",
    "                    param_grid=params,\n",
    "                    cv=3,\n",
    "                    refit=True)\n",
    "\n",
    "grid.fit(X_sm, y_sm)\n",
    "print('Best parameters: %s' % grid.best_params_)\n",
    "print('Accuracy: %.2f' % grid.best_score_)\n",
    "# model.fit(X_sm, y_sm)"
   ],
   "metadata": {
    "collapsed": false,
    "pycharm": {
     "name": "#%%\n"
    }
   }
  },
  {
   "cell_type": "code",
   "execution_count": 21,
   "outputs": [
    {
     "name": "stdout",
     "output_type": "stream",
     "text": [
      "0.918918918918919\n"
     ]
    }
   ],
   "source": [
    "from sklearn.metrics import accuracy_score\n",
    "# train_result = model.predict(features)\n",
    "train_result = grid.predict(features)\n",
    "print(accuracy_score(label, train_result))\n",
    "test_result = grid.predict(test[test.columns.drop(['id'])])"
   ],
   "metadata": {
    "collapsed": false,
    "pycharm": {
     "name": "#%%\n"
    }
   }
  },
  {
   "cell_type": "code",
   "execution_count": 19,
   "outputs": [],
   "source": [
    "pred = pd.DataFrame()\n",
    "pred['label'] = test_result\n",
    "pred.to_csv('submission.csv', index_label='id')"
   ],
   "metadata": {
    "collapsed": false,
    "pycharm": {
     "name": "#%%\n"
    }
   }
  },
  {
   "cell_type": "code",
   "execution_count": null,
   "outputs": [],
   "source": [],
   "metadata": {
    "collapsed": false,
    "pycharm": {
     "name": "#%%\n"
    }
   }
  }
 ],
 "metadata": {
  "kernelspec": {
   "display_name": "Python 3",
   "language": "python",
   "name": "python3"
  },
  "language_info": {
   "codemirror_mode": {
    "name": "ipython",
    "version": 2
   },
   "file_extension": ".py",
   "mimetype": "text/x-python",
   "name": "python",
   "nbconvert_exporter": "python",
   "pygments_lexer": "ipython2",
   "version": "2.7.6"
  }
 },
 "nbformat": 4,
 "nbformat_minor": 0
}